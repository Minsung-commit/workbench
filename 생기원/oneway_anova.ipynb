{
 "cells": [
  {
   "cell_type": "code",
   "execution_count": null,
   "id": "2009e02b-1f36-4bec-af95-db72fa5771c4",
   "metadata": {},
   "outputs": [],
   "source": [
    "import matplotlib.pyplot as plt"
   ]
  },
  {
   "cell_type": "markdown",
   "id": "fd142669-c584-4a83-bad9-b5268e1afda6",
   "metadata": {},
   "source": [
    "## 데이터 로드 ###\n",
    "데이터 로드 및 전처리 부분 생략(보안이슈)\n",
    "분석 부분만 기록"
   ]
  },
  {
   "cell_type": "code",
   "execution_count": 150,
   "id": "321673f3-3ec2-478f-974d-a6a985612b2c",
   "metadata": {},
   "outputs": [],
   "source": [
    "# 데이터 가명 처리\n",
    "\n",
    "rs_df.columns = list(map(chr, range(ord('A'), ord('X') + 1))) + [\"age\"]"
   ]
  },
  {
   "cell_type": "code",
   "execution_count": 144,
   "id": "f044fc71-ad11-498d-8cac-ceff53f278c3",
   "metadata": {},
   "outputs": [],
   "source": [
    "# 멀티 인덱스 생성\n",
    "\n",
    "num_col = rs_df.columns[:-1]\n",
    "cat_col = ['age']\n",
    "mult_idx = pd.MultiIndex.from_product([num_col, cat_col],names=['x', 'age'])"
   ]
  },
  {
   "cell_type": "code",
   "execution_count": 166,
   "id": "7a75f985-d2a8-4b27-a7db-2ded630622b3",
   "metadata": {},
   "outputs": [],
   "source": [
    "#아노바 분석 수행\n",
    "\n",
    "anova_tables = []\n",
    "for x, age in mult_idx:\n",
    "    \n",
    "    model = ols('{} ~ {}'.format(x, age), data=rs_df).fit()\n",
    "    anova_table = sm.stats.anova_lm(model, typ=1)\n",
    "    anova_tables.append(anova_table)\n",
    "\n",
    "df_anova_tables = pd.concat(anova_tables, keys=mult_idx, axis=0)"
   ]
  },
  {
   "cell_type": "code",
   "execution_count": 167,
   "id": "556bd7bf-2437-45d7-b0c4-39a56d3f2491",
   "metadata": {},
   "outputs": [],
   "source": [
    "# 보기 불편하니 지수값 변환\n",
    "귀무가설 = []\n",
    "대립가설 = []\n",
    "for i in num_col:\n",
    "    df_anova_tables.loc[(i, 'age', 'age')]['PR(>F)'] = np.exp(df_anova_tables.loc[(i, 'age', 'age')]['PR(>F)'])\n",
    "    # print(df_anova_tables.loc[(i, 'age', 'age')]['PR(>F)']-1) \n",
    "    if (df_anova_tables.loc[(i, 'age', 'age')]['PR(>F)']-1) > 0.05:\n",
    "        귀무가설.append([i, (df_anova_tables.loc[(i, 'age', 'age')]['PR(>F)'])])\n",
    "    else:\n",
    "        대립가설.append([i, (df_anova_tables.loc[(i, 'age', 'age')]['PR(>F)'])])"
   ]
  },
  {
   "cell_type": "markdown",
   "id": "2b062916-6e0c-4f46-b1f8-4aa8d3885afc",
   "metadata": {},
   "source": [
    "### 귀무가설 : 각 게시판 유형에 연령대별 이용평균을 동일하다.\n",
    "### 대립가설 : 각 게시판 유형에 연령대별 이용평균은 동일하지 않다. "
   ]
  },
  {
   "cell_type": "code",
   "execution_count": 173,
   "id": "3622a261-9084-4771-9875-8c95a17d69e1",
   "metadata": {},
   "outputs": [],
   "source": [
    "categories = [ item for item in num_col ]\n",
    "values = [ (df_anova_tables.loc[(item, 'age', 'age')]['PR(>F)']) for item in num_col ]"
   ]
  },
  {
   "cell_type": "code",
   "execution_count": 185,
   "id": "464782d9-b41a-44d9-bf0c-760ed161c523",
   "metadata": {},
   "outputs": [
    {
     "data": {
      "image/png": "[encoded data removed]",
      "text/plain": [
       "<Figure size 432x288 with 1 Axes>"
      ]
     },
     "metadata": {
      "needs_background": "light"
     },
     "output_type": "display_data"
    }
   ],
   "source": [
    "plt.bar(categories, values)\n",
    "plt.axis([0, 24, 0.99, 1.6])\n",
    "plt.axhline(y=1.05, color='red')\n",
    "plt.xlabel(\"Category\")\n",
    "plt.ylabel(\"Value\")\n",
    "plt.title(\"--P values--\")\n",
    "\n",
    "plt.show()"
   ]
  },
  {
   "cell_type": "markdown",
   "id": "c560de11-d01a-4fe4-aee6-bcb5217c509c",
   "metadata": {},
   "source": [
    "#### 결론\n",
    "- 24개 유형 중 21개 유형에서 귀무가설 기각하고 대립가설을 채택\n",
    "- 21개 유형은 연령대별 이용 평균에서 유의미한 차이를 가진다.\n",
    "- 연령대과 주 이용 게시판 사이에는 상관관계가 존재하기 때문에 이를 추천 모델 feature로 사용\n"
   ]
  },
  {
   "cell_type": "code",
   "execution_count": null,
   "id": "17ec2194-b014-4f68-92b0-c49812b4797a",
   "metadata": {},
   "outputs": [],
   "source": []
  }
 ],
 "metadata": {
  "kernelspec": {
   "display_name": "diquest",
   "language": "python",
   "name": "diquest"
  },
  "language_info": {
   "codemirror_mode": {
    "name": "ipython",
    "version": 3
   },
   "file_extension": ".py",
   "mimetype": "text/x-python",
   "name": "python",
   "nbconvert_exporter": "python",
   "pygments_lexer": "ipython3",
   "version": "3.7.11"
  }
 },
 "nbformat": 4,
 "nbformat_minor": 5
}
