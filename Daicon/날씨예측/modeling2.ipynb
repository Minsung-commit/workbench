{
 "cells": [
  {
   "cell_type": "code",
   "execution_count": 1,
   "id": "fa6abe3c-5ba9-4c03-b87a-38aa7727e9a2",
   "metadata": {},
   "outputs": [],
   "source": [
    "import pandas as pd\n",
    "import numpy as np \n",
    "import os\n",
    "import warnings\n",
    "warnings.filterwarnings('ignore')\n",
    "from scipy import stats\n",
    "from sklearn.model_selection import cross_val_score, train_test_split, StratifiedKFold\n",
    "from sklearn.preprocessing import StandardScaler, LabelEncoder, RobustScaler\n",
    "from sklearn.neighbors import KNeighborsRegressor\n",
    "from sklearn.svm import SVR\n",
    "from sklearn.linear_model import LinearRegression, LogisticRegression\n",
    "from sklearn.tree import DecisionTreeRegressor\n",
    "from sklearn.ensemble import RandomForestRegressor\n",
    "from sklearn.tree import DecisionTreeClassifier\n",
    "from sklearn.metrics import accuracy_score, classification_report, f1_score, make_scorer, roc_auc_score, mean_squared_error,mean_absolute_error\n",
    "from sklearn.cluster import KMeans\n",
    "from scipy import stats\n",
    "from sklearn.model_selection import GridSearchCV\n",
    "from prophet.diagnostics import cross_validation\n",
    "import joblib\n",
    "# import optuna\n",
    "# import xgboost as xgb\n",
    "import catboost\n",
    "import lightgbm as lgb\n",
    "from skopt import BayesSearchCV\n",
    "from prophet import Prophet\n",
    "from prophet.diagnostics import performance_metrics\n",
    "import xgboost as xgb"
   ]
  },
  {
   "cell_type": "code",
   "execution_count": 2,
   "id": "7ba51056-c8ce-45e5-b4c6-c0f34a5c2ce0",
   "metadata": {},
   "outputs": [],
   "source": [
    "def y_changer(data):\n",
    "    data = data.rename(columns = {\"y\": \"평균기온\", \"월\":\"months\"})\n",
    "    return data"
   ]
  },
  {
   "cell_type": "code",
   "execution_count": 3,
   "id": "a8fccfb2-efdb-47a7-b19f-88dbfc27ec58",
   "metadata": {},
   "outputs": [],
   "source": [
    "data = pd.read_csv('./prep_data.csv')\n",
    "data.ds = pd.to_datetime(data.ds)\n",
    "data = data.rename(columns = {\"평균기온\":\"y\"})\n",
    "data['days'] = data.ds.dt.day\n",
    "data['years'] = data.ds.dt.year\n",
    "summit_form = pd.read_csv('./sample_submission.csv')\n",
    "regressors = [x for x in data.columns if x != \"y\" and x != \"ds\"]\n",
    "data = y_changer(data)"
   ]
  },
  {
   "cell_type": "code",
   "execution_count": 4,
   "id": "e012a8fd-83c1-4a80-a167-95db8626a1cd",
   "metadata": {},
   "outputs": [
    {
     "data": {
      "text/plain": [
       "Index(['최고기온', '최저기온', '일교차', '강수량', '평균습도', '평균풍속', '일조합', '일사합', '일조율',\n",
       "       '평균기온', 'months', 'ds', 'days', 'years'],\n",
       "      dtype='object')"
      ]
     },
     "execution_count": 4,
     "metadata": {},
     "output_type": "execute_result"
    }
   ],
   "source": [
    "data.columns"
   ]
  },
  {
   "cell_type": "code",
   "execution_count": 5,
   "id": "d6fa2c01-e16d-4143-a05c-fa5376ecff7d",
   "metadata": {},
   "outputs": [],
   "source": [
    "X = data.drop([\"평균기온\",'일교차', '일조합','ds'], axis = 1)\n",
    "y = data.평균기온"
   ]
  },
  {
   "cell_type": "code",
   "execution_count": 33,
   "id": "3deb52b7-419f-43f5-a801-ae32b1b879b5",
   "metadata": {},
   "outputs": [],
   "source": [
    "y_new = y[365:]"
   ]
  },
  {
   "cell_type": "code",
   "execution_count": 34,
   "id": "cb37dc3f-c5bc-452e-8408-0f041ece52c3",
   "metadata": {},
   "outputs": [],
   "source": [
    "X_new = X[:-365]"
   ]
  },
  {
   "cell_type": "code",
   "execution_count": 12,
   "id": "27883f85-5f5a-4f81-9825-0e0bf04e3dcf",
   "metadata": {},
   "outputs": [
    {
     "data": {
      "text/plain": [
       "22646"
      ]
     },
     "execution_count": 12,
     "metadata": {},
     "output_type": "execute_result"
    }
   ],
   "source": [
    "new"
   ]
  },
  {
   "cell_type": "code",
   "execution_count": 13,
   "id": "46261533-8970-4281-aece-07db1f2f7f2e",
   "metadata": {},
   "outputs": [
    {
     "data": {
      "text/plain": [
       "22646"
      ]
     },
     "execution_count": 13,
     "metadata": {},
     "output_type": "execute_result"
    }
   ],
   "source": [
    "len(y_new)"
   ]
  },
  {
   "cell_type": "code",
   "execution_count": 40,
   "id": "fbfbf420-22d2-4173-82d4-f69cd69a9ebf",
   "metadata": {},
   "outputs": [],
   "source": [
    "X_train, X_test = X_new[:-365], X_new[-365:]\n",
    "y_train, y_test = y_new[:-365], y_new[-365:]"
   ]
  },
  {
   "cell_type": "code",
   "execution_count": 41,
   "id": "452de06e-f648-47c9-8db9-3e78d979041a",
   "metadata": {},
   "outputs": [
    {
     "data": {
      "text/html": [
       "<div>\n",
       "<style scoped>\n",
       "    .dataframe tbody tr th:only-of-type {\n",
       "        vertical-align: middle;\n",
       "    }\n",
       "\n",
       "    .dataframe tbody tr th {\n",
       "        vertical-align: top;\n",
       "    }\n",
       "\n",
       "    .dataframe thead th {\n",
       "        text-align: right;\n",
       "    }\n",
       "</style>\n",
       "<table border=\"1\" class=\"dataframe\">\n",
       "  <thead>\n",
       "    <tr style=\"text-align: right;\">\n",
       "      <th></th>\n",
       "      <th>최고기온</th>\n",
       "      <th>최저기온</th>\n",
       "      <th>강수량</th>\n",
       "      <th>평균습도</th>\n",
       "      <th>평균풍속</th>\n",
       "      <th>일사합</th>\n",
       "      <th>일조율</th>\n",
       "      <th>months</th>\n",
       "      <th>days</th>\n",
       "      <th>years</th>\n",
       "    </tr>\n",
       "  </thead>\n",
       "  <tbody>\n",
       "    <tr>\n",
       "      <th>22281</th>\n",
       "      <td>1.6</td>\n",
       "      <td>-9.8</td>\n",
       "      <td>0.61</td>\n",
       "      <td>64.0</td>\n",
       "      <td>2.0</td>\n",
       "      <td>9.54</td>\n",
       "      <td>67.7</td>\n",
       "      <td>1.0</td>\n",
       "      <td>1</td>\n",
       "      <td>2021</td>\n",
       "    </tr>\n",
       "    <tr>\n",
       "      <th>22282</th>\n",
       "      <td>-1.4</td>\n",
       "      <td>-8.4</td>\n",
       "      <td>0.18</td>\n",
       "      <td>38.5</td>\n",
       "      <td>2.6</td>\n",
       "      <td>11.34</td>\n",
       "      <td>93.8</td>\n",
       "      <td>1.0</td>\n",
       "      <td>2</td>\n",
       "      <td>2021</td>\n",
       "    </tr>\n",
       "    <tr>\n",
       "      <th>22283</th>\n",
       "      <td>-2.0</td>\n",
       "      <td>-9.1</td>\n",
       "      <td>0.09</td>\n",
       "      <td>45.0</td>\n",
       "      <td>2.0</td>\n",
       "      <td>8.80</td>\n",
       "      <td>56.7</td>\n",
       "      <td>1.0</td>\n",
       "      <td>3</td>\n",
       "      <td>2021</td>\n",
       "    </tr>\n",
       "    <tr>\n",
       "      <th>22284</th>\n",
       "      <td>0.3</td>\n",
       "      <td>-8.4</td>\n",
       "      <td>0.00</td>\n",
       "      <td>51.4</td>\n",
       "      <td>1.7</td>\n",
       "      <td>7.44</td>\n",
       "      <td>47.4</td>\n",
       "      <td>1.0</td>\n",
       "      <td>4</td>\n",
       "      <td>2021</td>\n",
       "    </tr>\n",
       "    <tr>\n",
       "      <th>22285</th>\n",
       "      <td>-2.1</td>\n",
       "      <td>-9.9</td>\n",
       "      <td>0.00</td>\n",
       "      <td>52.8</td>\n",
       "      <td>2.9</td>\n",
       "      <td>10.46</td>\n",
       "      <td>88.7</td>\n",
       "      <td>1.0</td>\n",
       "      <td>5</td>\n",
       "      <td>2021</td>\n",
       "    </tr>\n",
       "    <tr>\n",
       "      <th>...</th>\n",
       "      <td>...</td>\n",
       "      <td>...</td>\n",
       "      <td>...</td>\n",
       "      <td>...</td>\n",
       "      <td>...</td>\n",
       "      <td>...</td>\n",
       "      <td>...</td>\n",
       "      <td>...</td>\n",
       "      <td>...</td>\n",
       "      <td>...</td>\n",
       "    </tr>\n",
       "    <tr>\n",
       "      <th>22641</th>\n",
       "      <td>-3.9</td>\n",
       "      <td>-12.9</td>\n",
       "      <td>0.00</td>\n",
       "      <td>60.9</td>\n",
       "      <td>1.7</td>\n",
       "      <td>6.09</td>\n",
       "      <td>39.6</td>\n",
       "      <td>12.0</td>\n",
       "      <td>27</td>\n",
       "      <td>2021</td>\n",
       "    </tr>\n",
       "    <tr>\n",
       "      <th>22642</th>\n",
       "      <td>-0.9</td>\n",
       "      <td>-8.5</td>\n",
       "      <td>0.66</td>\n",
       "      <td>73.8</td>\n",
       "      <td>2.2</td>\n",
       "      <td>4.32</td>\n",
       "      <td>17.7</td>\n",
       "      <td>12.0</td>\n",
       "      <td>28</td>\n",
       "      <td>2021</td>\n",
       "    </tr>\n",
       "    <tr>\n",
       "      <th>22643</th>\n",
       "      <td>5.9</td>\n",
       "      <td>-3.8</td>\n",
       "      <td>0.20</td>\n",
       "      <td>72.9</td>\n",
       "      <td>2.6</td>\n",
       "      <td>4.64</td>\n",
       "      <td>18.8</td>\n",
       "      <td>12.0</td>\n",
       "      <td>29</td>\n",
       "      <td>2021</td>\n",
       "    </tr>\n",
       "    <tr>\n",
       "      <th>22644</th>\n",
       "      <td>0.2</td>\n",
       "      <td>-6.8</td>\n",
       "      <td>0.00</td>\n",
       "      <td>48.5</td>\n",
       "      <td>3.3</td>\n",
       "      <td>9.14</td>\n",
       "      <td>76.0</td>\n",
       "      <td>12.0</td>\n",
       "      <td>30</td>\n",
       "      <td>2021</td>\n",
       "    </tr>\n",
       "    <tr>\n",
       "      <th>22645</th>\n",
       "      <td>-3.9</td>\n",
       "      <td>-8.8</td>\n",
       "      <td>0.23</td>\n",
       "      <td>35.9</td>\n",
       "      <td>3.5</td>\n",
       "      <td>11.70</td>\n",
       "      <td>93.8</td>\n",
       "      <td>12.0</td>\n",
       "      <td>31</td>\n",
       "      <td>2021</td>\n",
       "    </tr>\n",
       "  </tbody>\n",
       "</table>\n",
       "<p>365 rows × 10 columns</p>\n",
       "</div>"
      ],
      "text/plain": [
       "       최고기온  최저기온   강수량  평균습도  평균풍속    일사합   일조율  months  days  years\n",
       "22281   1.6  -9.8  0.61  64.0   2.0   9.54  67.7     1.0     1   2021\n",
       "22282  -1.4  -8.4  0.18  38.5   2.6  11.34  93.8     1.0     2   2021\n",
       "22283  -2.0  -9.1  0.09  45.0   2.0   8.80  56.7     1.0     3   2021\n",
       "22284   0.3  -8.4  0.00  51.4   1.7   7.44  47.4     1.0     4   2021\n",
       "22285  -2.1  -9.9  0.00  52.8   2.9  10.46  88.7     1.0     5   2021\n",
       "...     ...   ...   ...   ...   ...    ...   ...     ...   ...    ...\n",
       "22641  -3.9 -12.9  0.00  60.9   1.7   6.09  39.6    12.0    27   2021\n",
       "22642  -0.9  -8.5  0.66  73.8   2.2   4.32  17.7    12.0    28   2021\n",
       "22643   5.9  -3.8  0.20  72.9   2.6   4.64  18.8    12.0    29   2021\n",
       "22644   0.2  -6.8  0.00  48.5   3.3   9.14  76.0    12.0    30   2021\n",
       "22645  -3.9  -8.8  0.23  35.9   3.5  11.70  93.8    12.0    31   2021\n",
       "\n",
       "[365 rows x 10 columns]"
      ]
     },
     "execution_count": 41,
     "metadata": {},
     "output_type": "execute_result"
    }
   ],
   "source": [
    "X_test"
   ]
  },
  {
   "cell_type": "code",
   "execution_count": 45,
   "id": "6ca669b4-bdb4-4b9a-a3cd-eb77599600c4",
   "metadata": {},
   "outputs": [
    {
     "name": "stdout",
     "output_type": "stream",
     "text": [
      "Best Parameters: OrderedDict([('colsample_bytree', 0.8780741118210806), ('gamma', 0), ('learning_rate', 0.12473347174963892), ('max_depth', 8), ('n_estimators', 456), ('subsample', 0.6080385860401739)])\n",
      "Cross-Validation Score: 2.758964698078302\n"
     ]
    }
   ],
   "source": [
    "import xgboost as xgb\n",
    "from sklearn.model_selection import cross_val_score\n",
    "from skopt import BayesSearchCV\n",
    "\n",
    "\n",
    "\n",
    "# 하이퍼파라미터 탐색 범위 정의\n",
    "param_space = {\n",
    "    'learning_rate': (0.01, 1.00, 'uniform'),\n",
    "    'max_depth': (3, 12),\n",
    "    'n_estimators': (100, 1000),\n",
    "    'subsample': (0.10, 1.00, 'uniform'),\n",
    "    'colsample_bytree': (0.10, 1.00, 'uniform'),\n",
    "    'gamma': (0, 1.0, 'uniform'),\n",
    "}\n",
    "\n",
    "# XGBoost 모델 초기화\n",
    "model = xgb.XGBRegressor(objective=\"reg:squarederror\", random_state=42)\n",
    "\n",
    "# BayesSearchCV를 사용하여 베이지안 최적화 수행\n",
    "opt = BayesSearchCV(\n",
    "    model,\n",
    "    param_space,\n",
    "    scoring='neg_mean_absolute_error',\n",
    "    n_iter=50,  # 반복 횟수\n",
    "    cv=5,  # 교차 검증 폴드 수\n",
    "    n_jobs=1,  # 병렬 처리를 위한 CPU 코어 수 (-1은 모든 가능한 코어 사용)\n",
    ")\n",
    "\n",
    "# 최적의 하이퍼파라미터로 모델 학습\n",
    "opt.fit(X_train, y_train)\n",
    "\n",
    "# 최적의 하이퍼파라미터 출력\n",
    "print(\"Best Parameters:\", opt.best_params_)\n",
    "\n",
    "# 최적의 모델 평가 (여기서는 교차 검증 점수 출력)\n",
    "print(\"Cross-Validation Score:\", -opt.best_score_)\n"
   ]
  },
  {
   "cell_type": "code",
   "execution_count": 47,
   "id": "61127148-e98b-403e-973d-a11144e1fb32",
   "metadata": {},
   "outputs": [
    {
     "ename": "AttributeError",
     "evalue": "'BayesSearchCV' object has no attribute 'best_estimators'",
     "output_type": "error",
     "traceback": [
      "\u001b[1;31m---------------------------------------------------------------------------\u001b[0m",
      "\u001b[1;31mAttributeError\u001b[0m                            Traceback (most recent call last)",
      "\u001b[1;32m~\\AppData\\Local\\Temp\\ipykernel_4532\\3156724161.py\u001b[0m in \u001b[0;36m<module>\u001b[1;34m\u001b[0m\n\u001b[1;32m----> 1\u001b[1;33m \u001b[0mopt\u001b[0m\u001b[1;33m.\u001b[0m\u001b[0mbest_estimators\u001b[0m\u001b[1;33m\u001b[0m\u001b[1;33m\u001b[0m\u001b[0m\n\u001b[0m",
      "\u001b[1;31mAttributeError\u001b[0m: 'BayesSearchCV' object has no attribute 'best_estimators'"
     ]
    }
   ],
   "source": [
    "opt.best_estimators"
   ]
  },
  {
   "cell_type": "code",
   "execution_count": 48,
   "id": "0db83069-a70d-44a9-86c6-5b825dac87f6",
   "metadata": {},
   "outputs": [],
   "source": [
    "best_model = opt.best_estimator_"
   ]
  },
  {
   "cell_type": "code",
   "execution_count": 58,
   "id": "b727619f-3614-4425-ad10-7fd852c02a19",
   "metadata": {},
   "outputs": [],
   "source": [
    "pred = best_model.predict(X_test)\n",
    "\n",
    "mean_absolute_error(y_test, pred)\n",
    "\n",
    "mae = mean_absolute_error(y_test, pred)"
   ]
  },
  {
   "cell_type": "code",
   "execution_count": 118,
   "id": "ae0b0ea9-0200-4bff-9034-08e102826585",
   "metadata": {},
   "outputs": [],
   "source": [
    "def select_label(data, labels, label):\n",
    "\n",
    "    # X = data.drop([\"평균기온\",'일교차', '일조합','ds', label], axis = 1)\n",
    "    X = data[labels].drop([label], axis = 1)\n",
    "    y = data[label]\n",
    "    \n",
    "    return X, y \n",
    "\n",
    "def train_test_data(X,y):\n",
    "    \n",
    "    X_train, X_test = X[:-365], X[-365:]\n",
    "    y_train, y_test = y[:-365], y[-365:]\n",
    "    \n",
    "    return X_train, X_test, y_train, y_test\n",
    "\n",
    "def make_model(X_train, y_train):\n",
    "    \n",
    "    # 하이퍼파라미터 탐색 범위 정의\n",
    "    param_space = {\n",
    "        'learning_rate': (0.01, 1.00, 'uniform'),\n",
    "        'max_depth': (3, 12),\n",
    "        'n_estimators': (100, 1000),\n",
    "        'subsample': (0.10, 1.00, 'uniform'),\n",
    "        'colsample_bytree': (0.10, 1.00, 'uniform'),\n",
    "        'gamma': (0, 1.0, 'uniform'),\n",
    "    }\n",
    "\n",
    "    # XGBoost 모델 초기화\n",
    "    model = xgb.XGBRegressor(objective=\"reg:squarederror\", n_jobs = -1, random_state=42)\n",
    "\n",
    "    # BayesSearchCV를 사용하여 베이지안 최적화 수행\n",
    "    opt = BayesSearchCV(\n",
    "        model,\n",
    "        param_space,\n",
    "        scoring='neg_mean_absolute_error',\n",
    "        n_iter=50,  # 반복 횟수\n",
    "        cv=5,  # 교차 검증 폴드 수\n",
    "        # n_jobs=1,  # 병렬 처리를 위한 CPU 코어 수 (-1은 모든 가능한 코어 사용)\n",
    "    )\n",
    "\n",
    "    # 최적의 하이퍼파라미터로 모델 학습\n",
    "    opt.fit(X_train, y_train)\n",
    "\n",
    "    # 최적의 하이퍼파라미터 출력\n",
    "    print(\"Best Parameters:\", opt.best_params_)\n",
    "\n",
    "    # 최적의 모델 평가 (여기서는 교차 검증 점수 출력)\n",
    "    print(\"Cross-Validation Score:\", -opt.best_score_)\n",
    "    \n",
    "    return opt\n",
    "    \n",
    "\n",
    "def socoring(opt, y_test, X_test):\n",
    "    \n",
    "    pred = opt.best_estimator_.predict(X_test)\n",
    "\n",
    "    mean_absolute_error(y_test, pred)\n",
    "\n",
    "    mae = mean_absolute_error(y_test, pred)\n",
    "    print(mae)\n",
    "    \n",
    "    return mae\n",
    "\n",
    "def progress(data, labels):\n",
    "    \n",
    "    \n",
    "    data = data\n",
    "    \n",
    "    labels = labels\n",
    "    \n",
    "    for label in labels:\n",
    "    \n",
    "        X, y = select_label(data, labels, label)\n",
    "\n",
    "        X_train,X_test, y_train, y_test = train_test_data(X,y)\n",
    "\n",
    "        opt = make_model(X_train,y_train)\n",
    "\n",
    "        label = label + \"_model\"\n",
    "        \n",
    "        print(label)\n",
    "\n",
    "        globals()[label] = opt\n",
    "\n",
    "        mae = socoring(opt, y_test, X_test)\n",
    "\n",
    "        return print(mae)\n",
    "\n",
    "def modeling(params, X_train, y_train):\n",
    "    \n",
    "    model = xgb.XGBRegressor(objective=\"reg:squarederror\", **params, n_jobs = -1, random_state=42)\n",
    "    \n",
    "    model.fit(X_train, y_train)\n",
    "    \n",
    "    return model\n",
    "\n",
    "def model_predict(data, label, params):\n",
    "    \n",
    "    data = data\n",
    "    \n",
    "    label = label\n",
    "    \n",
    "    X, y = select_label(data, label)\n",
    "    \n",
    "    X_train,X_test, y_train, y_test = train_test_data(X,y)\n",
    "    \n",
    "    model = modeling(params, X_train, y_train)\n",
    "    \n",
    "    model_pred = model.predict(X_test)\n",
    "    \n",
    "    return model_pred\n",
    "    "
   ]
  },
  {
   "cell_type": "code",
   "execution_count": 113,
   "id": "3e2c305a-349b-487c-b463-84ca47dcebf2",
   "metadata": {},
   "outputs": [],
   "source": [
    "avg_tmp = dict([('colsample_bytree', 0.7489488665614384), ('gamma', 0), ('learning_rate', 0.2303112080128232), ('max_depth', 3), ('n_estimators', 1000), ('subsample', 1.0)])\n",
    "high_tmp = dict([('colsample_bytree', 0.785843038567719), ('gamma', 1), ('learning_rate', 0.01), ('max_depth', 3), ('n_estimators', 1000), ('subsample', 0.36837214707260824)])\n",
    "low_tmp = dict([('colsample_bytree', 0.9307064570326005), ('gamma', 0), ('learning_rate', 0.01), ('max_depth', 5), ('n_estimators', 1000), ('subsample', 1.0)])\n",
    "avg_hum = dict([('colsample_bytree', 1.0), ('gamma', 0), ('learning_rate', 0.011022102502535366), ('max_depth', 4), ('n_estimators', 1000), ('subsample', 0.11499728444446672)])"
   ]
  },
  {
   "cell_type": "code",
   "execution_count": 114,
   "id": "d52b54c4-8f3d-457e-bc59-503eea3f6169",
   "metadata": {},
   "outputs": [
    {
     "data": {
      "text/plain": [
       "{'colsample_bytree': 0.7489488665614384,\n",
       " 'gamma': 0,\n",
       " 'learning_rate': 0.2303112080128232,\n",
       " 'max_depth': 3,\n",
       " 'n_estimators': 1000,\n",
       " 'subsample': 1.0}"
      ]
     },
     "execution_count": 114,
     "metadata": {},
     "output_type": "execute_result"
    }
   ],
   "source": [
    "avg_tmp"
   ]
  },
  {
   "cell_type": "code",
   "execution_count": 102,
   "id": "f859ee6e-2495-4431-8075-361864c7eca8",
   "metadata": {},
   "outputs": [
    {
     "name": "stdout",
     "output_type": "stream",
     "text": [
      "Best Parameters: OrderedDict([('colsample_bytree', 0.7489488665614384), ('gamma', 0), ('learning_rate', 0.2303112080128232), ('max_depth', 3), ('n_estimators', 1000), ('subsample', 1.0)])\n",
      "Cross-Validation Score: 0.39732766430568645\n",
      "0.3690247294970164\n",
      "0.3690247294970164\n",
      "Best Parameters: OrderedDict([('colsample_bytree', 0.785843038567719), ('gamma', 1), ('learning_rate', 0.01), ('max_depth', 3), ('n_estimators', 1000), ('subsample', 0.36837214707260824)])\n",
      "Cross-Validation Score: 0.39090319278662566\n",
      "0.3763858020795535\n",
      "0.3763858020795535\n",
      "Best Parameters: OrderedDict([('colsample_bytree', 0.9307064570326005), ('gamma', 0), ('learning_rate', 0.01), ('max_depth', 5), ('n_estimators', 1000), ('subsample', 1.0)])\n",
      "Cross-Validation Score: 0.3902358750681939\n",
      "0.37210015173235994\n",
      "0.37210015173235994\n",
      "Best Parameters: OrderedDict([('colsample_bytree', 1.0), ('gamma', 0), ('learning_rate', 0.011022102502535366), ('max_depth', 4), ('n_estimators', 1000), ('subsample', 0.11499728444446672)])\n",
      "Cross-Validation Score: 0.38985762876514507\n",
      "0.37554962341916076\n",
      "0.37554962341916076\n"
     ]
    }
   ],
   "source": [
    "labels = [\"평균기온\", \"최고기온\", \"최저기온\", \"평균습도\"]\n",
    "for label in labels :\n",
    "    progress(data, labels)"
   ]
  },
  {
   "cell_type": "code",
   "execution_count": 104,
   "id": "9382f0e6-5e77-41d2-963d-1e2d6d6902d2",
   "metadata": {},
   "outputs": [
    {
     "name": "stdout",
     "output_type": "stream",
     "text": [
      "OrderedDict([('colsample_bytree', 1.0), ('gamma', 0), ('learning_rate', 0.01), ('max_depth', 3), ('n_estimators', 1000), ('subsample', 1.0)])\n",
      "OrderedDict([('colsample_bytree', 1.0), ('gamma', 1), ('learning_rate', 0.219519027392961), ('max_depth', 8), ('n_estimators', 1000), ('subsample', 0.5209965334687984)])\n",
      "OrderedDict([('colsample_bytree', 1.0), ('gamma', 0), ('learning_rate', 0.01), ('max_depth', 5), ('n_estimators', 978), ('subsample', 0.6873473201351862)])\n",
      "OrderedDict([('colsample_bytree', 1.0), ('gamma', 0), ('learning_rate', 0.011022102502535366), ('max_depth', 4), ('n_estimators', 1000), ('subsample', 0.11499728444446672)])\n"
     ]
    }
   ],
   "source": [
    "print(최고기온_model.best_params_)\n",
    "print(최저기온_model.best_params_)\n",
    "print(평균습도_model.best_params_)\n",
    "print(평균기온_model.best_params_)"
   ]
  },
  {
   "cell_type": "code",
   "execution_count": 125,
   "id": "9298418a-77c9-4ac1-854c-ed8ce127ee00",
   "metadata": {},
   "outputs": [],
   "source": [
    "label_dic = {\"최고기온\" : high_tmp, \"최저기온\" : low_tmp, \"평균습도\" : avg_hum}"
   ]
  },
  {
   "cell_type": "code",
   "execution_count": 126,
   "id": "65514b13-a2b2-4ab1-bd44-0cbaae0951ad",
   "metadata": {},
   "outputs": [
    {
     "name": "stdout",
     "output_type": "stream",
     "text": [
      "{'colsample_bytree': 0.785843038567719, 'gamma': 1, 'learning_rate': 0.01, 'max_depth': 3, 'n_estimators': 1000, 'subsample': 0.36837214707260824}\n",
      "{'colsample_bytree': 0.9307064570326005, 'gamma': 0, 'learning_rate': 0.01, 'max_depth': 5, 'n_estimators': 1000, 'subsample': 1.0}\n",
      "{'colsample_bytree': 1.0, 'gamma': 0, 'learning_rate': 0.011022102502535366, 'max_depth': 4, 'n_estimators': 1000, 'subsample': 0.11499728444446672}\n"
     ]
    }
   ],
   "source": [
    "\n",
    "X, y = select_label(data, labels, \"평균기온\")\n",
    "\n",
    "X_train,X_test, y_train, y_test = train_test_data(X,y)\n",
    "\n",
    "base_m = modeling(avg_tmp, X_train, y_train)\\\n",
    "\n",
    "for k,v in label_dic.items() :\n",
    "    \n",
    "    X1, y1 = select_label(data, labels, k)\n",
    "    \n",
    "    X_train1,X_test1, y_train1, y_test1 = train_test_data(X1,y1)\n",
    "    \n",
    "    print(v)\n",
    "    \n",
    "    m = modeling(v, X_train1, y_train1)\n",
    "    \n",
    "    X_test[k] = m.predict(X_test1)\n",
    "    \n",
    "\n",
    "# y_pred = base_m.predict(X_test)\n",
    "\n",
    "# mae = mean_absolute_error(y_test, pred)\n",
    "\n",
    "# print(mae)"
   ]
  },
  {
   "cell_type": "code",
   "execution_count": 127,
   "id": "2d0303ae-2844-44a5-abbd-57f0d73a7314",
   "metadata": {},
   "outputs": [
    {
     "name": "stdout",
     "output_type": "stream",
     "text": [
      "2.8153716568097678\n"
     ]
    }
   ],
   "source": [
    "y_pred = base_m.predict(X_test)\n",
    "\n",
    "mae = mean_absolute_error(y_test, pred)\n",
    "\n",
    "print(mae)"
   ]
  },
  {
   "cell_type": "code",
   "execution_count": null,
   "id": "c2bfd18f-1d6f-4a14-ae98-918992074452",
   "metadata": {},
   "outputs": [],
   "source": []
  },
  {
   "cell_type": "code",
   "execution_count": 128,
   "id": "a411e63a-77d8-47e5-8fd2-1f7d397cfc76",
   "metadata": {},
   "outputs": [
    {
     "data": {
      "text/html": [
       "<div>\n",
       "<style scoped>\n",
       "    .dataframe tbody tr th:only-of-type {\n",
       "        vertical-align: middle;\n",
       "    }\n",
       "\n",
       "    .dataframe tbody tr th {\n",
       "        vertical-align: top;\n",
       "    }\n",
       "\n",
       "    .dataframe thead th {\n",
       "        text-align: right;\n",
       "    }\n",
       "</style>\n",
       "<table border=\"1\" class=\"dataframe\">\n",
       "  <thead>\n",
       "    <tr style=\"text-align: right;\">\n",
       "      <th></th>\n",
       "      <th>최고기온</th>\n",
       "      <th>최저기온</th>\n",
       "      <th>평균습도</th>\n",
       "    </tr>\n",
       "  </thead>\n",
       "  <tbody>\n",
       "    <tr>\n",
       "      <th>22646</th>\n",
       "      <td>-0.155919</td>\n",
       "      <td>-8.238092</td>\n",
       "      <td>60.601475</td>\n",
       "    </tr>\n",
       "    <tr>\n",
       "      <th>22647</th>\n",
       "      <td>3.271398</td>\n",
       "      <td>-5.182496</td>\n",
       "      <td>56.391415</td>\n",
       "    </tr>\n",
       "    <tr>\n",
       "      <th>22648</th>\n",
       "      <td>2.114505</td>\n",
       "      <td>-5.983513</td>\n",
       "      <td>57.746731</td>\n",
       "    </tr>\n",
       "    <tr>\n",
       "      <th>22649</th>\n",
       "      <td>2.158552</td>\n",
       "      <td>-6.311744</td>\n",
       "      <td>54.248131</td>\n",
       "    </tr>\n",
       "    <tr>\n",
       "      <th>22650</th>\n",
       "      <td>1.312312</td>\n",
       "      <td>-6.560971</td>\n",
       "      <td>55.886009</td>\n",
       "    </tr>\n",
       "    <tr>\n",
       "      <th>...</th>\n",
       "      <td>...</td>\n",
       "      <td>...</td>\n",
       "      <td>...</td>\n",
       "    </tr>\n",
       "    <tr>\n",
       "      <th>23006</th>\n",
       "      <td>1.562991</td>\n",
       "      <td>-6.547873</td>\n",
       "      <td>54.769093</td>\n",
       "    </tr>\n",
       "    <tr>\n",
       "      <th>23007</th>\n",
       "      <td>1.144488</td>\n",
       "      <td>-6.849960</td>\n",
       "      <td>56.458641</td>\n",
       "    </tr>\n",
       "    <tr>\n",
       "      <th>23008</th>\n",
       "      <td>1.172052</td>\n",
       "      <td>-6.911513</td>\n",
       "      <td>56.207546</td>\n",
       "    </tr>\n",
       "    <tr>\n",
       "      <th>23009</th>\n",
       "      <td>2.602852</td>\n",
       "      <td>-5.330601</td>\n",
       "      <td>57.111187</td>\n",
       "    </tr>\n",
       "    <tr>\n",
       "      <th>23010</th>\n",
       "      <td>3.258527</td>\n",
       "      <td>-4.911651</td>\n",
       "      <td>60.328079</td>\n",
       "    </tr>\n",
       "  </tbody>\n",
       "</table>\n",
       "<p>365 rows × 3 columns</p>\n",
       "</div>"
      ],
      "text/plain": [
       "           최고기온      최저기온       평균습도\n",
       "22646 -0.155919 -8.238092  60.601475\n",
       "22647  3.271398 -5.182496  56.391415\n",
       "22648  2.114505 -5.983513  57.746731\n",
       "22649  2.158552 -6.311744  54.248131\n",
       "22650  1.312312 -6.560971  55.886009\n",
       "...         ...       ...        ...\n",
       "23006  1.562991 -6.547873  54.769093\n",
       "23007  1.144488 -6.849960  56.458641\n",
       "23008  1.172052 -6.911513  56.207546\n",
       "23009  2.602852 -5.330601  57.111187\n",
       "23010  3.258527 -4.911651  60.328079\n",
       "\n",
       "[365 rows x 3 columns]"
      ]
     },
     "execution_count": 128,
     "metadata": {},
     "output_type": "execute_result"
    }
   ],
   "source": [
    "X_test"
   ]
  },
  {
   "cell_type": "code",
   "execution_count": null,
   "id": "b3748f8e-6537-46b5-ad60-d168bda3f64b",
   "metadata": {},
   "outputs": [],
   "source": [
    "\n",
    "X, y = select_label(data, labels, \"평균기온\")\n",
    "\n",
    "# X_train,X_test, y_train, y_test = train_test_data(X,y)\n",
    "X_test = pd.DataFrame()\n",
    "\n",
    "base_m = modeling(avg_tmp, X, y)\n",
    "\n",
    "for k,v in label_dic.items() :\n",
    "    \n",
    "    X1, y1 = select_label(data, labels, k)\n",
    "    \n",
    "    # X_train1,X_test1, y_train1, y_test1 = train_test_data(X1,y1)\n",
    "    \n",
    "    print(v)\n",
    "    \n",
    "    m = modeling(v, X1, y1)\n",
    "    \n",
    "    X_test[k] = m.predict(X_test1)\n",
    "    \n",
    "\n",
    "# y_pred = base_m.predict(X_test)\n",
    "\n",
    "# mae = mean_absolute_error(y_test, pred)\n",
    "\n",
    "# print(mae)"
   ]
  },
  {
   "cell_type": "code",
   "execution_count": 10,
   "id": "5069e637-fbb5-415e-bcd8-420b9e7e1468",
   "metadata": {},
   "outputs": [],
   "source": [
    "def base_select_label(data, labels, label):\n",
    "    \n",
    "    X = data[[\"years\", \"months\", \"days\"]]\n",
    "    y = data[label]\n",
    "    \n",
    "    return X, y \n",
    "\n",
    "def train_test_data(X,y):\n",
    "    \n",
    "    X_train, X_test = X[:-365], X[-365:]\n",
    "    y_train, y_test = y[:-365], y[-365:]\n",
    "    \n",
    "    return X_train, X_test, y_train, y_test\n",
    "\n",
    "def progress(data, labels):\n",
    "    \n",
    "    \n",
    "    data = data\n",
    "    \n",
    "    labels = labels\n",
    "    \n",
    "    for label in labels:\n",
    "    \n",
    "        X, y = select_label(data, labels, label)\n",
    "\n",
    "        X_train,X_test, y_train, y_test = train_test_data(X,y)\n",
    "\n",
    "        opt = make_model(X_train,y_train)\n",
    "\n",
    "        label = label + \"_model\"\n",
    "        \n",
    "        print(label)\n",
    "\n",
    "        globals()[label] = opt\n",
    "    \n",
    "def make_model(X_train, y_train):\n",
    "    \n",
    "    # 하이퍼파라미터 탐색 범위 정의\n",
    "    param_space = {\n",
    "        'learning_rate': (0.001, 1.00, 'uniform'),\n",
    "        'max_depth': (3, 12),\n",
    "        'n_estimators': (100, 2000),\n",
    "        'subsample': (0.10, 1.00, 'uniform'),\n",
    "        'colsample_bytree': (0.10, 1.00, 'uniform'),\n",
    "        'gamma': (0, 10.0, 'uniform'),\n",
    "    }\n",
    "\n",
    "    # XGBoost 모델 초기화\n",
    "    model = xgb.XGBRegressor(objective=\"reg:squarederror\", n_jobs = -1, random_state=42)\n",
    "\n",
    "    # BayesSearchCV를 사용하여 베이지안 최적화 수행\n",
    "    opt = BayesSearchCV(\n",
    "        model,\n",
    "        param_space,\n",
    "        scoring='neg_mean_absolute_error',\n",
    "        n_iter=50,  # 반복 횟수\n",
    "        cv=5,  # 교차 검증 폴드 수\n",
    "        # n_jobs=1,  # 병렬 처리를 위한 CPU 코어 수 (-1은 모든 가능한 코어 사용)\n",
    "    )\n",
    "    \n",
    "    # 최적의 하이퍼파라미터로 모델 학습\n",
    "    opt.fit(X_train, y_train)\n",
    "\n",
    "    # 최적의 하이퍼파라미터 출력|\n",
    "    print(\"Best Parameters:\", opt.best_params_)\n",
    "\n",
    "    # 최적의 모델 평가 (여기서는 교차 검증 점수 출력)\n",
    "    print(\"Cross-Validation Score:\", -opt.best_score_)\n",
    "    \n",
    "    return opt\n",
    "    "
   ]
  },
  {
   "cell_type": "code",
   "execution_count": 9,
   "id": "a94e521b-7d87-4cdc-a1b6-7defa6c8c946",
   "metadata": {},
   "outputs": [
    {
     "data": {
      "text/plain": [
       "Index(['최고기온', '최저기온', '일교차', '강수량', '평균습도', '평균풍속', '일조합', '일사합', '일조율',\n",
       "       '평균기온', 'months', 'ds', 'days', 'years'],\n",
       "      dtype='object')"
      ]
     },
     "execution_count": 9,
     "metadata": {},
     "output_type": "execute_result"
    }
   ],
   "source": [
    "data.columns"
   ]
  },
  {
   "cell_type": "code",
   "execution_count": 11,
   "id": "377d3ea1-80dd-41b3-b47a-3ee35447502d",
   "metadata": {},
   "outputs": [],
   "source": [
    "labels = [\"최고기온\", \"최저기온\", \"평균습도\", \"평균풍속\",\"일사합\", \"일조율\", \"강수량\"]"
   ]
  },
  {
   "cell_type": "code",
   "execution_count": 13,
   "id": "ec4003b9-cf1f-43bc-a3cf-013e3135e850",
   "metadata": {},
   "outputs": [],
   "source": [
    "def train_test_data(X,y, level):\n",
    "    \n",
    "    X_train, X_test = X[:-level], X[-level:]\n",
    "    y_train, y_test = y[:-level], y[-level:]\n",
    "    \n",
    "    return X_train, X_test, y_train, y_test"
   ]
  },
  {
   "cell_type": "code",
   "execution_count": null,
   "id": "6e7ed4ae-85ee-416d-861c-c8be715838c3",
   "metadata": {},
   "outputs": [
    {
     "name": "stdout",
     "output_type": "stream",
     "text": [
      "Best Parameters: OrderedDict([('colsample_bytree', 0.6335108591777195), ('gamma', 5), ('learning_rate', 0.30522645243482066), ('max_depth', 6), ('n_estimators', 561), ('subsample', 0.7316463555463202)])\n",
      "Cross-Validation Score: 3.197269372314757\n",
      "Best Parameters: OrderedDict([('colsample_bytree', 1.0), ('gamma', 10), ('learning_rate', 0.2313810521218389), ('max_depth', 3), ('n_estimators', 100), ('subsample', 0.4491801521025067)])\n",
      "Cross-Validation Score: 2.587316605715238\n",
      "Best Parameters: OrderedDict([('colsample_bytree', 0.23675143044507335), ('gamma', 8), ('learning_rate', 0.03063065294495793), ('max_depth', 3), ('n_estimators', 617), ('subsample', 0.3275606379914264)])\n",
      "Cross-Validation Score: 10.267357223331256\n",
      "Best Parameters: OrderedDict([('colsample_bytree', 0.1922405112470672), ('gamma', 10), ('learning_rate', 0.8894590352877205), ('max_depth', 12), ('n_estimators', 100), ('subsample', 1.0)])\n",
      "Cross-Validation Score: 0.7031825069354494\n",
      "Best Parameters: OrderedDict([('colsample_bytree', 0.5927693983345963), ('gamma', 10), ('learning_rate', 0.8177319008240377), ('max_depth', 7), ('n_estimators', 1739), ('subsample', 0.1)])\n",
      "Cross-Validation Score: 4.201250258664065\n"
     ]
    }
   ],
   "source": [
    "for label in labels:\n",
    "\n",
    "    X, y = base_select_label(data, labels, label)\n",
    "\n",
    "    X_train,X_test, y_train, y_test = train_test_data(X,y, 365)\n",
    "\n",
    "    opt = make_model(X_train,y_train)\n",
    "    \n",
    "    globals()[label+\"_model\"] = opt"
   ]
  },
  {
   "cell_type": "code",
   "execution_count": 134,
   "id": "91776cb7-9ff9-4764-b583-66715deb3e5f",
   "metadata": {},
   "outputs": [],
   "source": [
    "make_model(X_train, y_train)"
   ]
  },
  {
   "cell_type": "code",
   "execution_count": 142,
   "id": "7f758288-cc42-4dc5-9ba8-d6af7c6fabb3",
   "metadata": {},
   "outputs": [
    {
     "data": {
      "text/plain": [
       "OrderedDict([('colsample_bytree', 1.0),\n",
       "             ('gamma', 6),\n",
       "             ('learning_rate', 0.13683314435428243),\n",
       "             ('max_depth', 3),\n",
       "             ('n_estimators', 100),\n",
       "             ('subsample', 0.41477977896081264)])"
      ]
     },
     "execution_count": 142,
     "metadata": {},
     "output_type": "execute_result"
    }
   ],
   "source": [
    "최고기온_model.best_params_"
   ]
  },
  {
   "cell_type": "code",
   "execution_count": 144,
   "id": "e853f997-b50d-4206-a934-7cf7d37cf545",
   "metadata": {},
   "outputs": [
    {
     "data": {
      "text/plain": [
       "1095"
      ]
     },
     "execution_count": 144,
     "metadata": {},
     "output_type": "execute_result"
    }
   ],
   "source": [
    "365*3"
   ]
  },
  {
   "cell_type": "code",
   "execution_count": 15,
   "id": "c2cd81b4-5276-4e83-8112-fecf3839bb0e",
   "metadata": {},
   "outputs": [],
   "source": [
    "X = data[[\"years\", \"months\", \"days\",\"최고기온\", \"최저기온\", \"평균습도\", \"평균풍속\",\"일사합\", \"일조율\", \"강수량\"]]\n",
    "y = data[\"평균기온\"]"
   ]
  },
  {
   "cell_type": "code",
   "execution_count": 16,
   "id": "ff488a8a-3942-422b-bb2f-01cb35e68b5e",
   "metadata": {},
   "outputs": [],
   "source": [
    "X_train,X_test, y_train, y_test = train_test_data(X,y, 365)"
   ]
  },
  {
   "cell_type": "code",
   "execution_count": 17,
   "id": "ec3cfb7c-e81d-4df4-8cec-f39a2e1b2bc1",
   "metadata": {},
   "outputs": [
    {
     "name": "stdout",
     "output_type": "stream",
     "text": [
      "Best Parameters: OrderedDict([('colsample_bytree', 1.0), ('gamma', 3), ('learning_rate', 0.12492758147908661), ('max_depth', 12), ('n_estimators', 1326), ('subsample', 0.8014534674765247)])\n",
      "Cross-Validation Score: 0.37252389005158915\n"
     ]
    }
   ],
   "source": [
    "main_model = make_model(X_train,y_train)"
   ]
  },
  {
   "cell_type": "code",
   "execution_count": 18,
   "id": "9176cd27-27d4-4437-9819-3d0b4866423a",
   "metadata": {},
   "outputs": [],
   "source": [
    "X_test['최고기온'] = 최고기온_model.best_estimator_.predict(X_test[[\"years\", \"months\", \"days\"]])\n",
    "X_test['최저기온'] = 최저기온_model.best_estimator_.predict(X_test[[\"years\", \"months\", \"days\"]])\n",
    "X_test['평균습도'] = 평균습도_model.best_estimator_.predict(X_test[[\"years\", \"months\", \"days\"]])\n",
    "X_test['평균풍속'] = 평균풍속_model.best_estimator_.predict(X_test[[\"years\", \"months\", \"days\"]])\n",
    "X_test['일사합'] = 일사합_model.best_estimator_.predict(X_test[[\"years\", \"months\", \"days\"]])\n",
    "X_test['일조율'] = 일조율_model.best_estimator_.predict(X_test[[\"years\", \"months\", \"days\"]])\n",
    "X_test['강수량'] = 강수량_model.best_estimator_.predict(X_test[[\"years\", \"months\", \"days\"]])"
   ]
  },
  {
   "cell_type": "code",
   "execution_count": 19,
   "id": "d1c55e75-7b1d-481d-b65f-cf49aa48c0be",
   "metadata": {},
   "outputs": [
    {
     "name": "stdout",
     "output_type": "stream",
     "text": [
      "2.6142990210754413\n"
     ]
    }
   ],
   "source": [
    "y_pred = main_model.predict(X_test)\n",
    "\n",
    "mae = mean_absolute_error(y_test, y_pred)\n",
    "\n",
    "print(mae)"
   ]
  },
  {
   "cell_type": "code",
   "execution_count": 20,
   "id": "87ebd30d-aabf-4377-a300-fb0e7f518305",
   "metadata": {},
   "outputs": [],
   "source": [
    "forms = summit_form.copy()\n",
    "forms.일시 = pd.to_datetime(forms.일시)\n",
    "forms['days'] = forms.일시.dt.day\n",
    "forms['months'] = forms.일시.dt.month\n",
    "forms['years']= forms.일시.dt.year\n",
    "forms.drop(['일시','평균기온'], axis = 1, inplace = True)"
   ]
  },
  {
   "cell_type": "code",
   "execution_count": 22,
   "id": "aecb9383-905e-4f8b-97a3-9e1686b65684",
   "metadata": {},
   "outputs": [],
   "source": [
    "forms['최고기온'] = 최고기온_model.best_estimator_.predict(forms[[\"years\", \"months\", \"days\"]])\n",
    "forms['최저기온'] = 최저기온_model.best_estimator_.predict(forms[[\"years\", \"months\", \"days\"]])\n",
    "forms['평균습도'] = 평균습도_model.best_estimator_.predict(forms[[\"years\", \"months\", \"days\"]])\n",
    "forms['평균풍속'] = 평균풍속_model.best_estimator_.predict(forms[[\"years\", \"months\", \"days\"]])\n",
    "forms['일사합'] = 일사합_model.best_estimator_.predict(forms[[\"years\", \"months\", \"days\"]])\n",
    "forms['일조율'] = 일조율_model.best_estimator_.predict(forms[[\"years\", \"months\", \"days\"]])\n",
    "forms['강수량'] = 강수량_model.best_estimator_.predict(forms[[\"years\", \"months\", \"days\"]])"
   ]
  },
  {
   "cell_type": "code",
   "execution_count": 155,
   "id": "93d2160e-654a-422b-895d-f864573e59a6",
   "metadata": {},
   "outputs": [
    {
     "data": {
      "text/plain": [
       "['./models/평균습도_1.joblib']"
      ]
     },
     "execution_count": 155,
     "metadata": {},
     "output_type": "execute_result"
    }
   ],
   "source": [
    "import joblib\n",
    "joblib.dump(최고기온_model, \"./models/최고기온_1.joblib\")\n",
    "joblib.dump(최저기온_model, \"./models/최저기온_1.joblib\")\n",
    "joblib.dump(평균습도_model, \"./models/평균습도_1.joblib\")"
   ]
  },
  {
   "cell_type": "code",
   "execution_count": 156,
   "id": "5e7daa0d-d9ef-4aa6-ba7c-fb093ee15fc4",
   "metadata": {},
   "outputs": [
    {
     "data": {
      "text/plain": [
       "['./models/통합_1.joblib']"
      ]
     },
     "execution_count": 156,
     "metadata": {},
     "output_type": "execute_result"
    }
   ],
   "source": [
    "joblib.dump(mm, \"./models/통합_1.joblib\")"
   ]
  },
  {
   "cell_type": "code",
   "execution_count": 23,
   "id": "e36a53cb-4600-4626-89c2-1081bcc27250",
   "metadata": {},
   "outputs": [],
   "source": [
    "answer = main_model.predict(forms)\n",
    "\n",
    "summit_form[\"평균기온\"] = answer\n",
    "\n",
    "\n",
    "# mae = mean_absolute_error(y_test, y_pred)\n",
    "\n",
    "# print(mae)"
   ]
  },
  {
   "cell_type": "code",
   "execution_count": 24,
   "id": "fbee16fb-4c6d-4832-aed7-cbdaa26f1881",
   "metadata": {},
   "outputs": [],
   "source": [
    "summit_form.to_csv(f\"./answer/xgb_7vars_{mae}.csv\", index = False)"
   ]
  },
  {
   "cell_type": "code",
   "execution_count": null,
   "id": "68a0c22c-d467-438f-9dc3-2c1f9b7ac40a",
   "metadata": {},
   "outputs": [],
   "source": []
  }
 ],
 "metadata": {
  "kernelspec": {
   "display_name": "diquest",
   "language": "python",
   "name": "diquest"
  },
  "language_info": {
   "codemirror_mode": {
    "name": "ipython",
    "version": 3
   },
   "file_extension": ".py",
   "mimetype": "text/x-python",
   "name": "python",
   "nbconvert_exporter": "python",
   "pygments_lexer": "ipython3",
   "version": "3.7.11"
  }
 },
 "nbformat": 4,
 "nbformat_minor": 5
}
